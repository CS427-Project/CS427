{
 "cells": [
  {
   "cell_type": "code",
   "execution_count": 3,
   "id": "c42bb554-db56-46aa-a771-79097284a821",
   "metadata": {},
   "outputs": [
    {
     "name": "stdout",
     "output_type": "stream",
     "text": [
      "{'cfg': 'cfg_re50', 'resize': 1, 'confidence_threshold': 0.02, 'top_k': 5000, 'keep_top_k': 750, 'nms_threshold': 0.4, 'save_image': True, 'vis_thres': 0.6}\n",
      "Loading pretrained model from ./weights/Resnet50_Final.pth\n",
      "remove prefix 'module.'\n",
      "Missing keys:0\n",
      "Unused checkpoint keys:0\n",
      "Used keys:456\n",
      "net forward time: 0.0099\n"
     ]
    }
   ],
   "source": [
    "import json\n",
    "import detect_face_api\n",
    "\n",
    "# -----------------\n",
    "# Specify image path, model configuration, and model weights path\n",
    "# -----------------\n",
    "img_path = \"./curve/test.jpg\"\n",
    "model_weights_path = './weights/Resnet50_Final.pth'\n",
    "output_img_path = \"./test_outputs/final_test1.jpg\"\n",
    "\n",
    "# -----------------\n",
    "# Load the parameters for model from the JSON file (test_config.json, note that this is different from cfg as cfg is for the model architecture,\n",
    "# but the json file specifies non-model related configurations like whether to save the image after running the model on the image etc\n",
    "# -----------------\n",
    "json_config_file_path = \"./test_config.json\"\n",
    "with open(json_config_file_path, 'r') as file:\n",
    "    test_config_json = json.load(file)\n",
    "print(test_config_json)\n",
    "\n",
    "detect_face_api.detect_face(img_path, model_weights_path, output_img_path, test_config_json)"
   ]
  }
 ],
 "metadata": {
  "kernelspec": {
   "display_name": "Python 3 (ipykernel)",
   "language": "python",
   "name": "python3"
  },
  "language_info": {
   "codemirror_mode": {
    "name": "ipython",
    "version": 3
   },
   "file_extension": ".py",
   "mimetype": "text/x-python",
   "name": "python",
   "nbconvert_exporter": "python",
   "pygments_lexer": "ipython3",
   "version": "3.11.11"
  }
 },
 "nbformat": 4,
 "nbformat_minor": 5
}
