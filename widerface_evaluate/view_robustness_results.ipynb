{
 "cells": [
  {
   "cell_type": "code",
   "execution_count": 2,
   "id": "21b7811b-1932-4818-85b4-22ff4dab8564",
   "metadata": {},
   "outputs": [
    {
     "name": "stdout",
     "output_type": "stream",
     "text": [
      "In file included from \u001b[01m\u001b[K/common/home/users/n/nicoleoo.2021/jupyterlab-venv-pytorch-240/lib/python3.11/site-packages/numpy/_core/include/numpy/ndarraytypes.h:1913\u001b[m\u001b[K,\n",
      "                 from \u001b[01m\u001b[K/common/home/users/n/nicoleoo.2021/jupyterlab-venv-pytorch-240/lib/python3.11/site-packages/numpy/_core/include/numpy/ndarrayobject.h:12\u001b[m\u001b[K,\n",
      "                 from \u001b[01m\u001b[K/common/home/users/n/nicoleoo.2021/jupyterlab-venv-pytorch-240/lib/python3.11/site-packages/numpy/_core/include/numpy/arrayobject.h:5\u001b[m\u001b[K,\n",
      "                 from \u001b[01m\u001b[Kbox_overlaps.c:1249\u001b[m\u001b[K:\n",
      "\u001b[01m\u001b[K/common/home/users/n/nicoleoo.2021/jupyterlab-venv-pytorch-240/lib/python3.11/site-packages/numpy/_core/include/numpy/npy_1_7_deprecated_api.h:17:2:\u001b[m\u001b[K \u001b[01;35m\u001b[Kwarning: \u001b[m\u001b[K#warning \"Using deprecated NumPy API, disable it with \" \"#define NPY_NO_DEPRECATED_API NPY_1_7_API_VERSION\" [\u001b[01;35m\u001b[K\u001b]8;;https://gcc.gnu.org/onlinedocs/gcc/Warning-Options.html#index-Wcpp\u0007-Wcpp\u001b]8;;\u0007\u001b[m\u001b[K]\n",
      "   17 | #\u001b[01;35m\u001b[Kwarning\u001b[m\u001b[K \"Using deprecated NumPy API, disable it with \" \\\n",
      "      |  \u001b[01;35m\u001b[K^~~~~~~\u001b[m\u001b[K\n",
      "/common/home/users/n/nicoleoo.2021/Pytorch_Retinaface/widerface_evaluate/evaluation.py:95: SyntaxWarning: \"is\" with a literal. Did you mean \"==\"?\n",
      "  if line[0] is '':\n",
      "Traceback (most recent call last):\n",
      "  File \"/common/home/users/n/nicoleoo.2021/Pytorch_Retinaface/widerface_evaluate/evaluation.py\", line 14, in <module>\n",
      "    from bbox import bbox_overlaps\n",
      "  File \"widerface_evaluate/box_overlaps.pyx\", line 12, in init bbox\n",
      "    DTYPE = np.float\n",
      "  File \"/common/home/users/n/nicoleoo.2021/jupyterlab-venv-pytorch-240/lib/python3.11/site-packages/numpy/__init__.py\", line 397, in __getattr__\n",
      "    raise AttributeError(__former_attrs__[attr], name=None)\n",
      "AttributeError: module 'numpy' has no attribute 'float'.\n",
      "`np.float` was a deprecated alias for the builtin `float`. To avoid this error in existing code, use `float` by itself. Doing this will not modify any behavior and is safe. If you specifically wanted the numpy scalar type, use `np.float64` here.\n",
      "The aliases was originally deprecated in NumPy 1.20; for more details and guidance see the original release note at:\n",
      "    https://numpy.org/devdocs/release/1.20.0-notes.html#deprecations\n"
     ]
    }
   ],
   "source": [
    "!python setup.py build_ext --inplace\n",
    "!python evaluation.py"
   ]
  }
 ],
 "metadata": {
  "kernelspec": {
   "display_name": "Python 3 (ipykernel)",
   "language": "python",
   "name": "python3"
  },
  "language_info": {
   "codemirror_mode": {
    "name": "ipython",
    "version": 3
   },
   "file_extension": ".py",
   "mimetype": "text/x-python",
   "name": "python",
   "nbconvert_exporter": "python",
   "pygments_lexer": "ipython3",
   "version": "3.11.11"
  }
 },
 "nbformat": 4,
 "nbformat_minor": 5
}
